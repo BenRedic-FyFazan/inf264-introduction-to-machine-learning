{
 "cells": [
  {
   "cell_type": "code",
   "id": "initial_id",
   "metadata": {
    "collapsed": true,
    "ExecuteTime": {
     "end_time": "2024-09-21T18:03:04.731642Z",
     "start_time": "2024-09-21T18:03:04.715128Z"
    }
   },
   "source": [
    "# libraries\n",
    "import pandas as pd\n",
    "import numpy as np\n",
    "%matplotlib inline\n",
    "from sklearn.model_selection import train_test_split\n",
    "from sklearn.tree import DecisionTreeClassifier\n",
    "from sklearn.ensemble import RandomForestClassifier\n",
    "from sklearn.datasets import make_classification\n",
    "from sklearn.metrics import accuracy_score\n",
    "\n",
    "# Files\n"
   ],
   "outputs": [],
   "execution_count": 12
  },
  {
   "metadata": {
    "ExecuteTime": {
     "end_time": "2024-09-21T18:03:04.763685Z",
     "start_time": "2024-09-21T18:03:04.742658Z"
    }
   },
   "cell_type": "code",
   "source": [
    "# Create synthetic dataset\n",
    "num_samples = 500\n",
    "num_features = 3\n",
    "num_informative = 3\n",
    "num_redundant = 0\n",
    "num_clusters_per_class = 1\n",
    "num_classes = 5\n",
    "random_state = 42 # Meaning of life\n",
    "\n",
    "X, y = make_classification(\n",
    "    n_samples=num_samples, \n",
    "    n_features=num_features,\n",
    "    n_informative=num_informative,\n",
    "    n_redundant=num_redundant,\n",
    "    n_clusters_per_class=num_clusters_per_class,\n",
    "    n_classes=num_classes,\n",
    "    random_state=random_state\n",
    ")\n",
    "\n",
    "df = pd.DataFrame(X, columns=['Length(cm)', 'Weight(g)', 'Brightness'])\n",
    "\n",
    "# 1. Make all values non-negative\n",
    "df = df.abs()\n",
    "\n",
    "# 2. Scale 'Length(cm)' to be between 10 and 100\n",
    "length_min, length_max = df['Length(cm)'].min(), df['Length(cm)'].max()\n",
    "df['Length(cm)'] = 10 + (df['Length(cm)'] - length_min) * (90 / (length_max - length_min))\n",
    "\n",
    "# 3. Scale 'Weight(g)' to be between 50 and 5000\n",
    "weight_min, weight_max = df['Weight(g)'].min(), df['Weight(g)'].max()\n",
    "df['Weight(g)'] = 50 + (df['Weight(g)'] - weight_min) * (4950 / (weight_max - weight_min))\n",
    "\n",
    "# 4. Scale brightness to be between 0 and 10\n",
    "brightness_min, brightness_max = df['Brightness'].min(), df['Brightness'].max()\n",
    "df['Brightness'] = 0 + (df['Brightness'] - brightness_min) * (10 / (brightness_max - brightness_min))\n",
    "\n",
    "# 5. Give tangible names to the classes and add them to dataframe\n",
    "fish_types = {\n",
    "    0: 'Salmon',\n",
    "    1: 'Tuna',\n",
    "    2: 'Trout',\n",
    "    3: 'Bass',\n",
    "    4: 'Mackerel'\n",
    "}\n",
    "df['Class'] = np.vectorize(fish_types.get)(y)\n",
    "\n",
    "df"
   ],
   "id": "9daed6dfe755442d",
   "outputs": [
    {
     "data": {
      "text/plain": [
       "     Length(cm)    Weight(g)  Brightness   Class\n",
       "0     30.447050  2164.840540    3.351783    Tuna\n",
       "1     25.334927  1536.982421    2.664048    Bass\n",
       "2     12.107737   442.859404    2.491295  Salmon\n",
       "3     14.376890  1806.842131    2.591037    Bass\n",
       "4     47.720512  1128.870753    0.896277    Bass\n",
       "..          ...          ...         ...     ...\n",
       "495   30.426427  1081.102787    2.804622   Trout\n",
       "496   66.070650  1366.238307    0.909074   Trout\n",
       "497   30.173622  2546.033160    1.371208    Tuna\n",
       "498   41.985169  2183.583914    3.262593  Salmon\n",
       "499   37.908121   229.705268    1.532907    Bass\n",
       "\n",
       "[500 rows x 4 columns]"
      ],
      "text/html": [
       "<div>\n",
       "<style scoped>\n",
       "    .dataframe tbody tr th:only-of-type {\n",
       "        vertical-align: middle;\n",
       "    }\n",
       "\n",
       "    .dataframe tbody tr th {\n",
       "        vertical-align: top;\n",
       "    }\n",
       "\n",
       "    .dataframe thead th {\n",
       "        text-align: right;\n",
       "    }\n",
       "</style>\n",
       "<table border=\"1\" class=\"dataframe\">\n",
       "  <thead>\n",
       "    <tr style=\"text-align: right;\">\n",
       "      <th></th>\n",
       "      <th>Length(cm)</th>\n",
       "      <th>Weight(g)</th>\n",
       "      <th>Brightness</th>\n",
       "      <th>Class</th>\n",
       "    </tr>\n",
       "  </thead>\n",
       "  <tbody>\n",
       "    <tr>\n",
       "      <th>0</th>\n",
       "      <td>30.447050</td>\n",
       "      <td>2164.840540</td>\n",
       "      <td>3.351783</td>\n",
       "      <td>Tuna</td>\n",
       "    </tr>\n",
       "    <tr>\n",
       "      <th>1</th>\n",
       "      <td>25.334927</td>\n",
       "      <td>1536.982421</td>\n",
       "      <td>2.664048</td>\n",
       "      <td>Bass</td>\n",
       "    </tr>\n",
       "    <tr>\n",
       "      <th>2</th>\n",
       "      <td>12.107737</td>\n",
       "      <td>442.859404</td>\n",
       "      <td>2.491295</td>\n",
       "      <td>Salmon</td>\n",
       "    </tr>\n",
       "    <tr>\n",
       "      <th>3</th>\n",
       "      <td>14.376890</td>\n",
       "      <td>1806.842131</td>\n",
       "      <td>2.591037</td>\n",
       "      <td>Bass</td>\n",
       "    </tr>\n",
       "    <tr>\n",
       "      <th>4</th>\n",
       "      <td>47.720512</td>\n",
       "      <td>1128.870753</td>\n",
       "      <td>0.896277</td>\n",
       "      <td>Bass</td>\n",
       "    </tr>\n",
       "    <tr>\n",
       "      <th>...</th>\n",
       "      <td>...</td>\n",
       "      <td>...</td>\n",
       "      <td>...</td>\n",
       "      <td>...</td>\n",
       "    </tr>\n",
       "    <tr>\n",
       "      <th>495</th>\n",
       "      <td>30.426427</td>\n",
       "      <td>1081.102787</td>\n",
       "      <td>2.804622</td>\n",
       "      <td>Trout</td>\n",
       "    </tr>\n",
       "    <tr>\n",
       "      <th>496</th>\n",
       "      <td>66.070650</td>\n",
       "      <td>1366.238307</td>\n",
       "      <td>0.909074</td>\n",
       "      <td>Trout</td>\n",
       "    </tr>\n",
       "    <tr>\n",
       "      <th>497</th>\n",
       "      <td>30.173622</td>\n",
       "      <td>2546.033160</td>\n",
       "      <td>1.371208</td>\n",
       "      <td>Tuna</td>\n",
       "    </tr>\n",
       "    <tr>\n",
       "      <th>498</th>\n",
       "      <td>41.985169</td>\n",
       "      <td>2183.583914</td>\n",
       "      <td>3.262593</td>\n",
       "      <td>Salmon</td>\n",
       "    </tr>\n",
       "    <tr>\n",
       "      <th>499</th>\n",
       "      <td>37.908121</td>\n",
       "      <td>229.705268</td>\n",
       "      <td>1.532907</td>\n",
       "      <td>Bass</td>\n",
       "    </tr>\n",
       "  </tbody>\n",
       "</table>\n",
       "<p>500 rows × 4 columns</p>\n",
       "</div>"
      ]
     },
     "execution_count": 13,
     "metadata": {},
     "output_type": "execute_result"
    }
   ],
   "execution_count": 13
  },
  {
   "metadata": {
    "ExecuteTime": {
     "end_time": "2024-09-21T18:03:04.842771Z",
     "start_time": "2024-09-21T18:03:04.827759Z"
    }
   },
   "cell_type": "code",
   "source": [
    "# Split the dataset\n",
    "X_scaled = df.drop('Class', axis=1).values\n",
    "X_train, X_test, y_train, y_test = train_test_split(\n",
    "    X_scaled, y, test_size=0.3, random_state=42\n",
    ")"
   ],
   "id": "de55f50f18ed08b2",
   "outputs": [],
   "execution_count": 14
  },
  {
   "metadata": {},
   "cell_type": "markdown",
   "source": "# Decision Trees",
   "id": "3088dffade07e724"
  },
  {
   "metadata": {
    "ExecuteTime": {
     "end_time": "2024-09-21T18:03:04.888953Z",
     "start_time": "2024-09-21T18:03:04.875901Z"
    }
   },
   "cell_type": "code",
   "source": [
    "# Decision Tree variables\n",
    "model_criterion = 'entropy'\n",
    "model_max_depth = 4\n",
    "model_random_state = 42"
   ],
   "id": "a44daa9c815edf70",
   "outputs": [],
   "execution_count": 15
  },
  {
   "metadata": {
    "ExecuteTime": {
     "end_time": "2024-09-21T18:03:05.075166Z",
     "start_time": "2024-09-21T18:03:04.983830Z"
    }
   },
   "cell_type": "code",
   "source": [
    "# Execute the self-made decision tree\n",
    "sm_clf = dt.DecisionTree(\n",
    "    criterion = model_criterion, \n",
    "    max_depth = model_max_depth,\n",
    "    random_state = model_random_state\n",
    ")\n",
    "\n",
    "sm_clf.fit(X_train, y_train)\n",
    "sm_clf_predictions = sm_clf.predict(X_test)\n"
   ],
   "id": "70904cec8b1f3d61",
   "outputs": [],
   "execution_count": 16
  },
  {
   "metadata": {
    "ExecuteTime": {
     "end_time": "2024-09-21T18:03:05.154395Z",
     "start_time": "2024-09-21T18:03:05.138376Z"
    }
   },
   "cell_type": "code",
   "source": [
    "# Execute the sklearn decision tree for comparison\n",
    "sk_clf = DecisionTreeClassifier(\n",
    "    criterion= model_criterion, \n",
    "    max_depth= model_max_depth, \n",
    "    random_state = model_random_state\n",
    ")\n",
    "\n",
    "sk_clf.fit(X_train, y_train)\n",
    "sk_clf_predictions = sk_clf.predict(X_test)"
   ],
   "id": "af62fc7971295d67",
   "outputs": [],
   "execution_count": 17
  },
  {
   "metadata": {
    "ExecuteTime": {
     "end_time": "2024-09-21T18:03:05.185867Z",
     "start_time": "2024-09-21T18:03:05.170908Z"
    }
   },
   "cell_type": "code",
   "source": [
    "# Compare accuracies\n",
    "sm_accuracy = accuracy_score(y_test, sm_clf_predictions)\n",
    "sk_accuracy = accuracy_score(y_test, sk_clf_predictions)\n",
    "print(f\"Self-Made Decision Tree Accuracy on the test set: {sm_accuracy:.2f}\")\n",
    "print(f\"Scikit-learn Decision Tree Accuracy on the test set: {sk_accuracy:.2f}\")"
   ],
   "id": "3567f1ddf6f8b367",
   "outputs": [
    {
     "name": "stdout",
     "output_type": "stream",
     "text": [
      "Self-Made Decision Tree Accuracy on the test set: 0.31\n",
      "Scikit-learn Decision Tree Accuracy on the test set: 0.34\n"
     ]
    }
   ],
   "execution_count": 18
  },
  {
   "metadata": {},
   "cell_type": "markdown",
   "source": "# Random Forests",
   "id": "722adec8ce163788"
  },
  {
   "metadata": {
    "ExecuteTime": {
     "end_time": "2024-09-21T18:03:05.217987Z",
     "start_time": "2024-09-21T18:03:05.203476Z"
    }
   },
   "cell_type": "code",
   "source": [
    "model_num_estimators = 50\n",
    "model_criterion = 'entropy'\n",
    "model_max_depth = 4\n",
    "model_random_state = 42\n",
    "model_max_features = 'sqrt'"
   ],
   "id": "e3e16d78b6b0ac33",
   "outputs": [],
   "execution_count": 19
  },
  {
   "metadata": {
    "ExecuteTime": {
     "end_time": "2024-09-21T18:03:06.357923Z",
     "start_time": "2024-09-21T18:03:05.234521Z"
    }
   },
   "cell_type": "code",
   "source": [
    "# Executing self-made random forest\n",
    "sm_rf = dt.RandomForest(\n",
    "    n_estimators = model_num_estimators,\n",
    "    criterion = model_criterion,\n",
    "    max_depth = model_max_depth,\n",
    "    max_features = model_max_features,\n",
    "    random_state = model_random_state\n",
    ")\n",
    "sm_rf.fit(X_train, y_train)\n",
    "sm_rf_predictions = sm_rf.predict(X_test)"
   ],
   "id": "f21a86b96ad4ef3e",
   "outputs": [],
   "execution_count": 20
  },
  {
   "metadata": {
    "ExecuteTime": {
     "end_time": "2024-09-21T18:03:06.433950Z",
     "start_time": "2024-09-21T18:03:06.389451Z"
    }
   },
   "cell_type": "code",
   "source": [
    "# Executing sklearn random forest\n",
    "sk_rf = RandomForestClassifier(\n",
    "    n_estimators = model_num_estimators,\n",
    "    criterion = model_criterion,\n",
    "    max_depth = model_max_depth,\n",
    "    max_features = model_max_features,\n",
    "    random_state = model_random_state\n",
    ")\n",
    "\n",
    "sk_rf.fit(X_train, y_train)\n",
    "sk_rf_predictions = sk_rf.predict(X_test)"
   ],
   "id": "388b305041b851bb",
   "outputs": [],
   "execution_count": 21
  },
  {
   "metadata": {
    "ExecuteTime": {
     "end_time": "2024-09-21T18:03:06.479957Z",
     "start_time": "2024-09-21T18:03:06.465630Z"
    }
   },
   "cell_type": "code",
   "source": [
    "# Compare accuracies\n",
    "sm_rf_accuracy = accuracy_score(y_test, sm_rf_predictions)\n",
    "sk_rf_accuracy = accuracy_score(y_test, sk_rf_predictions)\n",
    "print(f\"Self-Made Random Forest Accuracy on the test set: {sm_rf_accuracy:.2f}\")\n",
    "print(f\"Scikit-learn Random Forest Accuracy on the test set: {sk_rf_accuracy:.2f}\")"
   ],
   "id": "af5e438d0be855f7",
   "outputs": [
    {
     "name": "stdout",
     "output_type": "stream",
     "text": [
      "Self-Made Random Forest Accuracy on the test set: 0.37\n",
      "Scikit-learn Random Forest Accuracy on the test set: 0.39\n"
     ]
    }
   ],
   "execution_count": 22
  },
  {
   "metadata": {},
   "cell_type": "markdown",
   "source": "",
   "id": "5323139f70baae97"
  }
 ],
 "metadata": {
  "kernelspec": {
   "display_name": "Python 3",
   "language": "python",
   "name": "python3"
  },
  "language_info": {
   "codemirror_mode": {
    "name": "ipython",
    "version": 2
   },
   "file_extension": ".py",
   "mimetype": "text/x-python",
   "name": "python",
   "nbconvert_exporter": "python",
   "pygments_lexer": "ipython2",
   "version": "2.7.6"
  }
 },
 "nbformat": 4,
 "nbformat_minor": 5
}
